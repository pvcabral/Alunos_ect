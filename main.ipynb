{
 "cells": [
  {
   "cell_type": "code",
   "execution_count": 6,
   "metadata": {},
   "outputs": [],
   "source": [
    "import os\n",
    "import pandas as pd\n",
    "\n",
    "folder_path = 'Dados da ECT'\n",
    "\n",
    "dfs = []\n",
    "\n",
    "for filename in os.listdir(folder_path):\n",
    "    if filename.endswith('.csv'):\n",
    "        file_path = os.path.join(folder_path, filename)\n",
    "        df = pd.read_csv(file_path, sep=';', encoding='latin1', skiprows=6)\n",
    "        \n",
    "        # Extract year from filename\n",
    "        year = filename.split('_')[-1][:4]\n",
    "        df['Ano'] = year\n",
    "        \n",
    "        dfs.append(df)\n",
    "\n",
    "# Concatenate filtered DataFrames into a single DataFrame\n",
    "filtered_dfs = [df[df['Nome'] == 'LÓGICA DE PROGRAMAÇÃO'].drop(columns=\"Unnamed: 9\").reset_index(drop=True) for df in dfs]\n",
    "result_df = pd.concat(filtered_dfs, ignore_index=True)"
   ]
  },
  {
   "cell_type": "code",
   "execution_count": 14,
   "metadata": {},
   "outputs": [],
   "source": [
    "result_df.to_csv('result_lop_alunos.csv', index=False)"
   ]
  }
 ],
 "metadata": {
  "kernelspec": {
   "display_name": "base",
   "language": "python",
   "name": "python3"
  },
  "language_info": {
   "codemirror_mode": {
    "name": "ipython",
    "version": 3
   },
   "file_extension": ".py",
   "mimetype": "text/x-python",
   "name": "python",
   "nbconvert_exporter": "python",
   "pygments_lexer": "ipython3",
   "version": "3.11.7"
  }
 },
 "nbformat": 4,
 "nbformat_minor": 2
}
